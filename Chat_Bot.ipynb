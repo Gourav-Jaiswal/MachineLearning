{
  "nbformat": 4,
  "nbformat_minor": 0,
  "metadata": {
    "colab": {
      "name": "Chat Bot.ipynb",
      "provenance": [],
      "collapsed_sections": [],
      "include_colab_link": true
    },
    "kernelspec": {
      "name": "python3",
      "display_name": "Python 3"
    }
  },
  "cells": [
    {
      "cell_type": "markdown",
      "metadata": {
        "id": "view-in-github",
        "colab_type": "text"
      },
      "source": [
        "<a href=\"https://colab.research.google.com/github/Gourav-Jaiswal/MachineLearning/blob/main/Chat_Bot.ipynb\" target=\"_parent\"><img src=\"https://colab.research.google.com/assets/colab-badge.svg\" alt=\"Open In Colab\"/></a>"
      ]
    },
    {
      "cell_type": "code",
      "metadata": {
        "id": "-bOPc-mXDfNf"
      },
      "source": [
        "#For example, let’s say you want to search all words that start with “a” in the string \"abc def\" . The code you will write is:"
      ],
      "execution_count": 1,
      "outputs": []
    },
    {
      "cell_type": "code",
      "metadata": {
        "colab": {
          "base_uri": "https://localhost:8080/"
        },
        "id": "i-1d1GXPDrSz",
        "outputId": "92568555-44f2-4d2c-b58c-840a40d44703"
      },
      "source": [
        "import re\n",
        "re.search(\"^a\", \"abc def\")"
      ],
      "execution_count": 2,
      "outputs": [
        {
          "output_type": "execute_result",
          "data": {
            "text/plain": [
              "<re.Match object; span=(0, 1), match='a'>"
            ]
          },
          "metadata": {
            "tags": []
          },
          "execution_count": 2
        }
      ]
    },
    {
      "cell_type": "code",
      "metadata": {
        "colab": {
          "base_uri": "https://localhost:8080/"
        },
        "id": "JT9o0P_uD_kb",
        "outputId": "cc135e44-dd3e-4e84-fce7-15515b7bbd2b"
      },
      "source": [
        "if re.search(\"^a\", \"abc\"):\n",
        "    print(\"Found!!!\")\n",
        " "
      ],
      "execution_count": 3,
      "outputs": [
        {
          "output_type": "stream",
          "text": [
            "Found!!!\n"
          ],
          "name": "stdout"
        }
      ]
    },
    {
      "cell_type": "code",
      "metadata": {
        "id": "3qgdOoe9EERO"
      },
      "source": [
        " #Let’s say that you want to find all words that end with one or more “e”. You can use the +  operator:"
      ],
      "execution_count": 4,
      "outputs": []
    },
    {
      "cell_type": "code",
      "metadata": {
        "colab": {
          "base_uri": "https://localhost:8080/"
        },
        "id": "xnRPu6b5EPcK",
        "outputId": "388c3b0d-2110-4667-dbdd-fe74a8381309"
      },
      "source": [
        "3\n",
        "words = ['TEXT', 'EASTee', 'BESTe']\n",
        "words_ending_with_one_or_more_e = [w for w in words if re.search(\"e+$\", w)]\n",
        "words_ending_with_one_or_more_e"
      ],
      "execution_count": 5,
      "outputs": [
        {
          "output_type": "execute_result",
          "data": {
            "text/plain": [
              "['EASTee', 'BESTe']"
            ]
          },
          "metadata": {
            "tags": []
          },
          "execution_count": 5
        }
      ]
    },
    {
      "cell_type": "code",
      "metadata": {
        "id": "FftDiQU4FRrb"
      },
      "source": [
        "#You can use it as well in list comprehensions to find words that end with “ed”, for example:"
      ],
      "execution_count": 6,
      "outputs": []
    },
    {
      "cell_type": "code",
      "metadata": {
        "colab": {
          "base_uri": "https://localhost:8080/"
        },
        "id": "C2VYEeXKFTev",
        "outputId": "fa1ab993-1190-4e2d-eb8b-166b5e86869e"
      },
      "source": [
        "words = ['TEXT', 'EAST', 'BESTed']\n",
        "words_ending_with_ed = [w for w in words if re.search(\"ed$\", w)]\n",
        "words_ending_with_ed"
      ],
      "execution_count": 7,
      "outputs": [
        {
          "output_type": "execute_result",
          "data": {
            "text/plain": [
              "['BESTed']"
            ]
          },
          "metadata": {
            "tags": []
          },
          "execution_count": 7
        }
      ]
    },
    {
      "cell_type": "code",
      "metadata": {
        "colab": {
          "base_uri": "https://localhost:8080/"
        },
        "id": "dO7FQFkjF4bE",
        "outputId": "96d36f62-de00-421f-9b5f-d20d885d80aa"
      },
      "source": [
        "words = ['TEXT', 'EAST', '#BESTe']\n",
        "words_begin_with_hash = [w for w in words if re.search(\"^#\", w)]\n",
        "words_begin_with_hash"
      ],
      "execution_count": 8,
      "outputs": [
        {
          "output_type": "execute_result",
          "data": {
            "text/plain": [
              "['#BESTe']"
            ]
          },
          "metadata": {
            "tags": []
          },
          "execution_count": 8
        }
      ]
    },
    {
      "cell_type": "code",
      "metadata": {
        "colab": {
          "base_uri": "https://localhost:8080/"
        },
        "id": "-riQntOwGeHm",
        "outputId": "6182aff5-b5c0-475f-e152-006a59a079be"
      },
      "source": [
        "#NLTK has an algorithm named as \"PorterStemmer\". This algorithm accepts the list of tokenized word and stems it into root word.\n",
        "from nltk.stem import PorterStemmer\n",
        "e_words= [\"wait\", \"waiting\", \"waited\", \"waits\"]\n",
        "ps =PorterStemmer()\n",
        "for w in e_words:\n",
        "    rootWord=ps.stem(w)\n",
        "    print(rootWord)"
      ],
      "execution_count": 9,
      "outputs": [
        {
          "output_type": "stream",
          "text": [
            "wait\n",
            "wait\n",
            "wait\n",
            "wait\n"
          ],
          "name": "stdout"
        }
      ]
    },
    {
      "cell_type": "code",
      "metadata": {
        "colab": {
          "base_uri": "https://localhost:8080/"
        },
        "id": "98qNHBw4eh50",
        "outputId": "9ae69009-8268-42cb-80dc-15cd077dced8"
      },
      "source": [
        "!pip install nltk\n",
        "!pip install punct"
      ],
      "execution_count": 10,
      "outputs": [
        {
          "output_type": "stream",
          "text": [
            "Requirement already satisfied: nltk in /usr/local/lib/python3.7/dist-packages (3.2.5)\n",
            "Requirement already satisfied: six in /usr/local/lib/python3.7/dist-packages (from nltk) (1.15.0)\n",
            "Collecting punct\n",
            "  Downloading https://files.pythonhosted.org/packages/6a/cd/15969db72379cf6470a0f9630639c7441c2b302375fcbc28ce5c442fea36/punct-1.2.2.tar.gz\n",
            "Building wheels for collected packages: punct\n",
            "  Building wheel for punct (setup.py) ... \u001b[?25l\u001b[?25hdone\n",
            "  Created wheel for punct: filename=punct-1.2.2-cp37-none-any.whl size=5627 sha256=f9a4f56f09fddaa198c35622c5ce5c94ee34f027a1cfaef3fc1935105a713e82\n",
            "  Stored in directory: /root/.cache/pip/wheels/61/2f/3e/8abc5334209ca91ef3dfdd5dc98879ed29779b6c886abd3bc0\n",
            "Successfully built punct\n",
            "Installing collected packages: punct\n",
            "Successfully installed punct-1.2.2\n"
          ],
          "name": "stdout"
        }
      ]
    },
    {
      "cell_type": "code",
      "metadata": {
        "id": "o4JpTER1fFtg"
      },
      "source": [
        "#paragraph to sentences"
      ],
      "execution_count": 12,
      "outputs": []
    },
    {
      "cell_type": "code",
      "metadata": {
        "id": "l7k85zS8Gs9H",
        "colab": {
          "base_uri": "https://localhost:8080/"
        },
        "outputId": "6815bee3-1415-4d8d-d406-8bb1cbf2e1f1"
      },
      "source": [
        "import nltk\n",
        "nltk.download('punkt')\n",
        "from nltk.tokenize import sent_tokenize\n",
        "text=\" Hello Mr. Smith, how are you doing today? The weather is great, and city is awesome.The sky is pinkish-blue. You shouldn't eat cardboard\"\n",
        "tokenized_text=sent_tokenize(text)\n",
        "print(tokenized_text)"
      ],
      "execution_count": 13,
      "outputs": [
        {
          "output_type": "stream",
          "text": [
            "[nltk_data] Downloading package punkt to /root/nltk_data...\n",
            "[nltk_data]   Unzipping tokenizers/punkt.zip.\n",
            "[' Hello Mr. Smith, how are you doing today?', 'The weather is great, and city is awesome.The sky is pinkish-blue.', \"You shouldn't eat cardboard\"]\n"
          ],
          "name": "stdout"
        }
      ]
    },
    {
      "cell_type": "markdown",
      "metadata": {
        "id": "rm2uU1SUrn3v"
      },
      "source": [
        "Chatbots are typically used in dialog systems for various practical purposes including customer service or information acquisition. Some chatterbots use sophisticated natural language processing systems, but many simpler systems scan for keywords within the input, then pull a reply with the most matching keywords, or the most similar wording pattern, from a database."
      ]
    },
    {
      "cell_type": "markdown",
      "metadata": {
        "id": "9MpgbOAFr7W9"
      },
      "source": [
        "In order to successfully build a conversational engine, it should take care of the following things:\n",
        "\n",
        "1. Understand who is the target audience\n",
        "\n",
        "2. Understand the Natural Language of the communication.\n",
        "\n",
        "3. Understand the intent or desire of the user\n",
        "\n",
        "4. provide responses that can answer the user\n",
        "\n",
        "Today we will learn to create a simple chat assistant or chatbot using Python’s NLTK library."
      ]
    },
    {
      "cell_type": "markdown",
      "metadata": {
        "id": "X78I0CJ6sL2T"
      },
      "source": [
        "NLTK has a module, nltk.chat, which simplifies building these engines by providing a generic framework.\n",
        "Chat: This is a class that has all the logic that is used by the chatbot.\n",
        "Reflections: This is a dictionary that contains a set of input values and its corresponding output values. It is an optional dictionary that you can use. You can also create your own dictionary in the same format as below and use it in your code. \n",
        "reflections = {\n",
        "  \"i am\"       : \"you are\",\n",
        "  \"i was\"      : \"you were\",\n",
        "  \"i\"          : \"you\",\n",
        "  \"i'm\"        : \"you are\",\n",
        "  \"i'd\"        : \"you would\",\n",
        "  \"i've\"       : \"you have\",\n",
        "  \"i'll\"       : \"you will\",\n",
        "  \"my\"         : \"your\",\n",
        "  \"you are\"    : \"I am\",\n",
        "  \"you were\"   : \"I was\",\n",
        "  \"you've\"     : \"I have\",\n",
        "  \"you'll\"     : \"I will\",\n",
        "  \"your\"       : \"my\",\n",
        "  \"yours\"      : \"mine\",\n",
        "  \"you\"        : \"me\",\n",
        "  \"me\"         : \"you\"\n",
        "}"
      ]
    },
    {
      "cell_type": "code",
      "metadata": {
        "id": "8t-APuDIpowG",
        "colab": {
          "base_uri": "https://localhost:8080/"
        },
        "outputId": "ae52bbe3-bbbe-4950-8249-fc97ad17e7fe"
      },
      "source": [
        "from nltk.chat.util import Chat, reflections\n",
        "pairs = [\n",
        "    [\n",
        "        r\"my name is (.*)\",\n",
        "        [\"Hello %1, How are you today ?\",]\n",
        "    ],\n",
        "     [\n",
        "        r\"what is your name ?\",\n",
        "        [\"My name is Chatty and I'm a chatbot ?\",]\n",
        "    ],\n",
        "    [\n",
        "        r\"how are you ?\",\n",
        "        [\"I'm doing good\\nHow about You ?\",]\n",
        "    ],\n",
        "    [\n",
        "        r\"sorry (.*)\",\n",
        "        [\"Its alright\",\"Its OK, never mind\",]\n",
        "    ],\n",
        "    [\n",
        "        r\"i'm (.*) doing good\",\n",
        "        [\"Nice to hear that\",\"Alright :)\",]\n",
        "    ],\n",
        "    [\n",
        "        r\"hi|hey|hello\",\n",
        "        [\"Hello\", \"Hey there\",]\n",
        "    ],\n",
        "    [\n",
        "        r\"(.*) age?\",\n",
        "        [\"I'm a computer program dude\\nSeriously you are asking me this?\",]\n",
        "        \n",
        "    ],\n",
        "    [\n",
        "        r\"what (.*) want ?\",\n",
        "        [\"Make me an offer I can't refuse\",]\n",
        "        \n",
        "    ],\n",
        "    [\n",
        "        r\"(.*) created ?\",\n",
        "        [\"Nagesh created me using Python's NLTK library \",\"top secret ;)\",]\n",
        "    ],\n",
        "    [\n",
        "        r\"(.*) (location|city) ?\",\n",
        "        ['Chennai, Tamil Nadu',]\n",
        "    ],\n",
        "    [\n",
        "        r\"how is weather in (.*)?\",\n",
        "        [\"Weather in %1 is awesome like always\",\"Too hot man here in %1\",\"Too cold man here in %1\",\"Never even heard about %1\"]\n",
        "    ],\n",
        "    [\n",
        "        r\"i work in (.*)?\",\n",
        "        [\"%1 is an Amazing company, I have heard about it. But they are in huge loss these days.\",]\n",
        "    ],\n",
        "    [\n",
        "        r\"(.*)raining in (.*)\",\n",
        "        [\"No rain since last week here in %2\",\"Damn its raining too much here in %2\"]\n",
        "    ],\n",
        "    [\n",
        "        r\"how (.*) health(.*)\",\n",
        "        [\"I'm a computer program, so I'm always healthy \",]\n",
        "    ],\n",
        "    [\n",
        "        r\"(.*) (sports|game) ?\",\n",
        "        [\"I'm a very big fan of Football\",]\n",
        "    ],\n",
        "    [\n",
        "        r\"who (.*) sportsperson ?\",\n",
        "        [\"Messy\",\"Ronaldo\",\"Roony\"]\n",
        "    ],\n",
        "    [\n",
        "        r\"who (.*) (moviestar|actor)?\",\n",
        "        [\"Brad Pitt\"]\n",
        "    ],\n",
        "    [\n",
        "        r\"quit\",\n",
        "        [\"BBye take care. See you soon :) \",\"It was nice talking to you. See you soon :)\"]\n",
        "    ],\n",
        "]\n",
        "def chatty():\n",
        "    print(\"Hi, I'm Chatty and I chat alot ;)\\nPlease type lowercase English language to start a conversation. Type quit to leave \") #default message at the start\n",
        "    chat = Chat(pairs, reflections)\n",
        "    chat.converse()\n",
        "if __name__ == \"__main__\":\n",
        "    chatty()"
      ],
      "execution_count": 15,
      "outputs": [
        {
          "output_type": "stream",
          "text": [
            "Hi, I'm Chatty and I chat alot ;)\n",
            "Please type lowercase English language to start a conversation. Type quit to leave \n",
            ">hello\n",
            "Hey there\n",
            ">Hi, I'm Chatty and I chat alot\n",
            "Hey there\n",
            ">quit\n",
            "BBye take care. See you soon :) \n"
          ],
          "name": "stdout"
        }
      ]
    },
    {
      "cell_type": "markdown",
      "metadata": {
        "id": "d-veYiaqAHwv"
      },
      "source": [
        "CHAT BOT IMPLEMENTATION USING CHATTERBOT"
      ]
    },
    {
      "cell_type": "code",
      "metadata": {
        "colab": {
          "base_uri": "https://localhost:8080/"
        },
        "id": "mPybzxdfob14",
        "outputId": "ac02a104-f022-47e6-f53c-9ee811eae79a"
      },
      "source": [
        "!pip install chatterbot\n"
      ],
      "execution_count": 16,
      "outputs": [
        {
          "output_type": "stream",
          "text": [
            "Collecting chatterbot\n",
            "\u001b[?25l  Downloading https://files.pythonhosted.org/packages/7c/21/85c2b114bd9dfabdd46ba58fc4519acdaed45d8c70898d40079e37a45e67/ChatterBot-1.0.8-py2.py3-none-any.whl (63kB)\n",
            "\r\u001b[K     |█████▏                          | 10kB 18.7MB/s eta 0:00:01\r\u001b[K     |██████████▎                     | 20kB 11.3MB/s eta 0:00:01\r\u001b[K     |███████████████▌                | 30kB 8.5MB/s eta 0:00:01\r\u001b[K     |████████████████████▋           | 40kB 7.6MB/s eta 0:00:01\r\u001b[K     |█████████████████████████▊      | 51kB 4.7MB/s eta 0:00:01\r\u001b[K     |███████████████████████████████ | 61kB 5.2MB/s eta 0:00:01\r\u001b[K     |████████████████████████████████| 71kB 3.8MB/s \n",
            "\u001b[?25hCollecting mathparse<0.2,>=0.1\n",
            "  Downloading https://files.pythonhosted.org/packages/c3/e5/4910fb85950cb960fcf3f5aabe1c8e55f5c9201788a1c1302b570a7e1f84/mathparse-0.1.2-py3-none-any.whl\n",
            "Requirement already satisfied: pytz in /usr/local/lib/python3.7/dist-packages (from chatterbot) (2018.9)\n",
            "Requirement already satisfied: sqlalchemy<1.4,>=1.3 in /usr/local/lib/python3.7/dist-packages (from chatterbot) (1.3.23)\n",
            "Requirement already satisfied: python-dateutil<2.9,>=2.8 in /usr/local/lib/python3.7/dist-packages (from chatterbot) (2.8.1)\n",
            "Requirement already satisfied: six>=1.5 in /usr/local/lib/python3.7/dist-packages (from python-dateutil<2.9,>=2.8->chatterbot) (1.15.0)\n",
            "Installing collected packages: mathparse, chatterbot\n",
            "Successfully installed chatterbot-1.0.8 mathparse-0.1.2\n"
          ],
          "name": "stdout"
        }
      ]
    },
    {
      "cell_type": "code",
      "metadata": {
        "id": "zQ7tDl_BoKq1",
        "colab": {
          "base_uri": "https://localhost:8080/"
        },
        "outputId": "ed6f1155-cc55-4410-da18-1c6167ea0ae2"
      },
      "source": [
        "#Importing basic libraries required\n",
        "from chatterbot import ChatBot\n",
        "from chatterbot.trainers import ListTrainer\n",
        "\n",
        "#Creating an instance of ChatBot\n",
        "chatbot = ChatBot(\"Bot\")\n",
        "\n",
        "#Converstion for ChatBot\n",
        "conversation = [\n",
        "    \"Good morning\",\n",
        "    \"Hi there!\",\n",
        "    \"How are you doing?\",\n",
        "    \"I'm doing great.\",\n",
        "    \"That is good to hear\",\n",
        "    \"Thank you.\",\n",
        "    \"You're welcome.\"\n",
        "    \"What is your name\"\n",
        "    \"My name is FRIDAY\"\n",
        "]\n",
        "\n",
        "#Training ChatBot\n",
        "trainer = ListTrainer(chatbot)\n",
        "trainer.train(conversation)\n",
        "\n",
        "while True:\n",
        "    try:\n",
        "        bot_input = chatbot.get_response(input())\n",
        "        print(bot_input)\n",
        "\n",
        "    except(KeyboardInterrupt, EOFError, SystemExit):\n",
        "        break"
      ],
      "execution_count": 19,
      "outputs": [
        {
          "output_type": "stream",
          "text": [
            "List Trainer: [####################] 100%\n",
            "hello\n",
            "You're welcome.What is your nameMy name is FRIDAY\n",
            "\n"
          ],
          "name": "stdout"
        },
        {
          "output_type": "stream",
          "text": [
            "No value for search_text was available on the provided input\n"
          ],
          "name": "stderr"
        },
        {
          "output_type": "stream",
          "text": [
            "Good morning\n"
          ],
          "name": "stdout"
        }
      ]
    }
  ]
}